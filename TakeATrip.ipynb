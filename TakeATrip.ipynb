{
 "cells": [
  {
   "cell_type": "markdown",
   "id": "0a570080-6114-4f1c-904a-0f7a2b6e9e11",
   "metadata": {},
   "source": [
    "This widget dashboard allows you to plan for a spontaneous weekend trip. First, input the IATA airline code for the airline you want to fly with (Common Examples Include: AA- American Airlines, SW- Southwestern, F9- Frontier Airlines, DL- Delta Airlines, B6- JetBlue, LH- Lufthansa). Next, select the IATA of the airport you want to fly out of, we included the top 50 airports in the US for simplicity. Finally, select the number of one-way flight options that should appear in your output and that you want to see displayed in the graph. This is the link to the API: https://app.goflightlabs.com/dashboard. Sign up, make an account and copy the key in the blank variable name (access_key). You can then switch any of the inputs and after clicking the Show Flights Button again, your updated choices should show up.\n",
    "\n",
    "We made use of a number of additional libraries in our project. The first and most important library to install is the networkx library. This library provides a variety of tools surrounding the graph data structure. I am sure you are familiar with how this data structure works, and the steps to implementing a graph in our code. To install this package, type \"pip install networkx[default]\" into the miniconda prompt. If you run into any problems, read the documentation that follows: https://networkx.org/documentation/stable/install.html. Matplot lib, requests, widgets, random, and iPython should already be installed as they were covered in class. "
   ]
  },
  {
   "cell_type": "code",
   "execution_count": 14,
   "id": "4ef96326-4a11-4afc-8d6c-443d5525733a",
   "metadata": {},
   "outputs": [
    {
     "data": {
      "application/vnd.jupyter.widget-view+json": {
       "model_id": "305574b37c654c4391afaeb6839216b7",
       "version_major": 2,
       "version_minor": 0
      },
      "text/plain": [
       "Output(layout=Layout(border_bottom='1.5px solid black', border_left='1.5px solid black', border_right='1.5px s…"
      ]
     },
     "execution_count": 14,
     "metadata": {},
     "output_type": "execute_result"
    }
   ],
   "source": [
    "import networkx as nx\n",
    "from matplotlib import pyplot as plt\n",
    "import requests\n",
    "import ipywidgets as widgets\n",
    "import random\n",
    "from IPython.display import display, HTML\n",
    "get_ipython().ast_node_interactivity = 'all'\n",
    "\n",
    "top50Airports = [\"ATL\", \"LAX\", \"ORD\", \"DFW\", \"DEN\", \"JFK\", \"SFO\", \"LAS\", \"YYZ\", \"SEA\", \"CLT\", \"MCO\", \"MIA\", \"PHX\", \"EWR\", \"IAH\", \"MSP\", \"BOS\", \"DTW\", \"FLL\", \"ORL\", \"LGA\", \"PHL\", \"BWI\", \"SLC\", \"YVR\", \"DCA\", \"IAD\", \"MDW\", \"SAN\", \"HNL\", \"TPA\", \"PDX\", \"YUL\", \"YYC\", \"DAL\", \"STL\", \"BNA\", \"AUS\", \"HOU\", \"OAK\", \"SJC\", \"MSY\", \"RDU\", \"MCI\", \"SMF\", \"SNA\", \"CLE\", \"SAT\", \"PIT\"]\n",
    "\n",
    "dashboard = widgets.Output(layout={'border': '1.5px solid black'})\n",
    "airline_code = widgets.Text(\n",
    "    value='',\n",
    "    description='Airline Code:',\n",
    "    placeholder='Enter airline IATA code'\n",
    ")\n",
    "\n",
    "num_flights = widgets.IntSlider(\n",
    "    value=0,\n",
    "    min=1,\n",
    "    max=50,\n",
    "    step=1,\n",
    "    description='# of Flights:',\n",
    "    orientation='horizontal'\n",
    ")\n",
    "\n",
    "flight_options = widgets.Dropdown(\n",
    "    options=sorted(top50Airports),\n",
    "    description='DEP Airport:'\n",
    ")\n",
    "\n",
    "output = widgets.Output()\n",
    "\n",
    "def getData(airIATA, depIATA):\n",
    "    site = \"https://app.goflightlabs.com/advanced-real-time-flights\"\n",
    "    access_key = \" \"\n",
    "    parameters = {'access_key': access_key, 'airline_iata': airIATA, 'depIata' : depIATA}\n",
    "    r = requests.get(site, parameters)\n",
    "    flightData = r.json()\n",
    "    arrivals = set()\n",
    "    for i in range(len(flightData['data'])):\n",
    "        if flightData['data'][i]['arrival']['iataCode'] in top50Airports and flightData['data'][i]['arrival']['iataCode'] not in arrivals:\n",
    "            arrivals.add(flightData['data'][i]['arrival']['iataCode'])\n",
    "    return list(arrivals)\n",
    "\n",
    "\n",
    "def printGraph(depIATA, airIATA, numFlights):\n",
    "    data = getData(airIATA, depIATA)\n",
    "    random.shuffle(data)\n",
    "    G = nx.DiGraph()\n",
    "    G.add_node(depIATA)\n",
    "    numFlights = min(numFlights, len(data))\n",
    "    for i in range(numFlights):\n",
    "        G.add_edge(depIATA, data[i])\n",
    "    plt.figure(figsize=(8,8))\n",
    "    plt.title(str(numFlights) + ' one-way flights from ' + depIATA)\n",
    "    pos = nx.circular_layout(G)\n",
    "    nx.draw(G, pos, node_size=800, with_labels=True)\n",
    "    plt.show()\n",
    "    display(HTML('<h3>Destinations:</h3>'))\n",
    "    if numFlights == len(data):\n",
    "        print(f\"This graph contains all of the one-way flights from {depIATA} on {airIATA}.\")\n",
    "    else:\n",
    "        print(f\"Not happy with your destinations? Here is a list of all availible one-way flights from {depIATA} on {airIATA}\")\n",
    "        for i, element in enumerate(data):\n",
    "            print(f\"{i+1}. {element}\")  \n",
    "\n",
    "def on_button_clicked(_):\n",
    "    with output:\n",
    "        output.clear_output()\n",
    "        printGraph(flight_options.value, airline_code.value, num_flights.value)\n",
    "\n",
    "\n",
    "button = widgets.Button(\n",
    "    description='Show Flights',\n",
    "    layout=widgets.Layout(width='100%', height='100%')\n",
    ")\n",
    "button.on_click(on_button_clicked)\n",
    "\n",
    "with dashboard: \n",
    "    display(airline_code, flight_options, num_flights, button, output)\n",
    "dashboard"
   ]
  }
 ],
 "metadata": {
  "kernelspec": {
   "display_name": "Python 3",
   "language": "python",
   "name": "python3"
  },
  "language_info": {
   "codemirror_mode": {
    "name": "ipython",
    "version": 3
   },
   "file_extension": ".py",
   "mimetype": "text/x-python",
   "name": "python",
   "nbconvert_exporter": "python",
   "pygments_lexer": "ipython3",
   "version": "3.9.12"
  }
 },
 "nbformat": 4,
 "nbformat_minor": 5
}
